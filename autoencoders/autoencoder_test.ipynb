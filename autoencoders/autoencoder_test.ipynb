{
 "cells": [
  {
   "cell_type": "code",
   "execution_count": 1,
   "metadata": {},
   "outputs": [],
   "source": [
    "from autoencoder import Autoencoder\n",
    "import torch.nn.functional as F\n",
    "import torch\n",
    "import os\n",
    "from torch.utils.data import Dataset, DataLoader\n",
    "from torchvision.io import read_image\n",
    "from torchvision.transforms.functional import resize\n",
    "from tqdm import tqdm\n",
    "\n",
    "LR = 1e-3\n",
    "WEIGHT_DECAY = 1e-5\n",
    "BATCH_SIZE = 8\n",
    "EPOCHS = 10\n",
    "OUTPUT_LOSS_INTERVAL = 1"
   ]
  },
  {
   "cell_type": "code",
   "execution_count": 2,
   "metadata": {},
   "outputs": [],
   "source": [
    "def get_files_in_sub_dirs(path):\n",
    "    file_names = []\n",
    "    for root, dirs, files in os.walk(path):\n",
    "        for file in files:\n",
    "            file_names.append(os.path.join(root, file))\n",
    "            \n",
    "    return file_names\n",
    "\n",
    "def get_img_paths(path):\n",
    "    file_names = get_files_in_sub_dirs(path)\n",
    "    file_names = [file for file in file_names if file.endswith('.jpg')]\n",
    "    return file_names"
   ]
  },
  {
   "cell_type": "code",
   "execution_count": 3,
   "metadata": {},
   "outputs": [],
   "source": [
    "img_paths = get_img_paths('../data')"
   ]
  },
  {
   "cell_type": "code",
   "execution_count": 4,
   "metadata": {},
   "outputs": [],
   "source": [
    "# Code heavily inspired by: \"https://pytorch.org/tutorials/beginner/basics/data_tutorial.html\"\n",
    "class SimpsonsDataset(Dataset):\n",
    "    def __init__(self, img_paths, new_img_size, transform=None) -> None:\n",
    "        self.image_paths = img_paths\n",
    "        self.new_img_size = new_img_size\n",
    "        self.transform = transform\n",
    "        \n",
    "    def __len__(self):\n",
    "        return len(img_paths)\n",
    "    \n",
    "    def __getitem__(self, index):\n",
    "        if index > len(img_paths):\n",
    "            raise IndexError('Index out of bounds!')\n",
    "        \n",
    "        img_path = img_paths[index]\n",
    "        img = read_image(img_path).float()\n",
    "        img = resize(img, self.new_img_size)\n",
    "        \n",
    "        if self.transform:\n",
    "            image = self.transform(image)\n",
    "        \n",
    "        return img"
   ]
  },
  {
   "cell_type": "code",
   "execution_count": null,
   "metadata": {},
   "outputs": [],
   "source": [
    "simp_dataset = SimpsonsDataset(img_paths=img_paths, new_img_size=(64, 64))"
   ]
  },
  {
   "cell_type": "code",
   "execution_count": 6,
   "metadata": {},
   "outputs": [],
   "source": [
    "train_dataloader = DataLoader(simp_dataset, BATCH_SIZE, True)"
   ]
  },
  {
   "cell_type": "code",
   "execution_count": 7,
   "metadata": {},
   "outputs": [],
   "source": [
    "model = Autoencoder((3, 64, 64), (8192, 4096, 1024, 256))\n",
    "optimizer = torch.optim.AdamW(model.parameters(), lr=LR, weight_decay=WEIGHT_DECAY)"
   ]
  },
  {
   "cell_type": "code",
   "execution_count": null,
   "metadata": {},
   "outputs": [],
   "source": [
    "print(\"Hyperparameters:\")\n",
    "print(\"Batch size:\", BATCH_SIZE)\n",
    "print(\"Learning rate:\", LR)\n",
    "print(\"Weight decay:\", WEIGHT_DECAY)\n",
    "print(\"Epochs:\", EPOCHS)\n",
    "print(\"Output loss interval:\", OUTPUT_LOSS_INTERVAL)\n",
    "print()"
   ]
  },
  {
   "cell_type": "code",
   "execution_count": 8,
   "metadata": {},
   "outputs": [],
   "source": [
    "def train(model, device, optimizer, train_dataloader, epochs, loss_output_interval):\n",
    "    model.to(device)\n",
    "    model.train()\n",
    "    \n",
    "    for step in tqdm(range(epochs), desc=\"Epoch\"):\n",
    "        running_loss = 0\n",
    "        total_running_loss = 0\n",
    "        \n",
    "        for i, X in enumerate(tqdm(train_dataloader, desc=\"Batch\", total=len(train_dataloader))):\n",
    "            y = torch.flatten(X)\n",
    "            X = X.to(device)\n",
    "            y = y.to(device)\n",
    "            y_hat, loss = model(X, X)\n",
    "            \n",
    "            optimizer.zero_grad()\n",
    "            loss.backward()\n",
    "            optimizer.step()\n",
    "            \n",
    "            running_loss += loss.item()\n",
    "            total_running_loss += loss.item()\n",
    "        \n",
    "        if (step+1) % loss_output_interval == 0:\n",
    "            print(f' Epoch {step+1} Average Batch Loss: {total_running_loss/len(train_dataloader)}')\n",
    "            \n",
    "    model.eval()\n",
    "    "
   ]
  },
  {
   "cell_type": "code",
   "execution_count": null,
   "metadata": {},
   "outputs": [],
   "source": [
    "train(model, device=torch.device('cuda'), optimizer=optimizer, train_dataloader=train_dataloader, epochs=EPOCHS, loss_output_interval=OUTPUT_LOSS_INTERVAL)"
   ]
  }
 ],
 "metadata": {
  "kernelspec": {
   "display_name": "ml_env",
   "language": "python",
   "name": "python3"
  },
  "language_info": {
   "codemirror_mode": {
    "name": "ipython",
    "version": 3
   },
   "file_extension": ".py",
   "mimetype": "text/x-python",
   "name": "python",
   "nbconvert_exporter": "python",
   "pygments_lexer": "ipython3",
   "version": "3.11.4"
  }
 },
 "nbformat": 4,
 "nbformat_minor": 2
}
