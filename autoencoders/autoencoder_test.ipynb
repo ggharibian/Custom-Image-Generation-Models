{
 "cells": [
  {
   "cell_type": "code",
   "execution_count": 1,
   "metadata": {},
   "outputs": [],
   "source": [
    "from autoencoder import Autoencoder\n",
    "import torch.nn.functional as F\n",
    "import torch\n"
   ]
  },
  {
   "cell_type": "code",
   "execution_count": null,
   "metadata": {},
   "outputs": [],
   "source": [
    "def reconstruction_loss(x, x_hat):\n",
    "    return F.mse_loss(x_hat, x, reduction='sum')\n",
    "\n",
    "def kl_divergence_loss(self, mu, stddev):\n",
    "    return 0.5 * torch.sum(torch.exp(stddev) + mu**2 - 1.0 - stddev)\n",
    "\n",
    "def loss_function(self, x, x_hat, mu, stddev):\n",
    "    return self.reconstruction_loss(x, x_hat) + self.kl_divergence_loss(mu, stddev)"
   ]
  },
  {
   "cell_type": "code",
   "execution_count": null,
   "metadata": {},
   "outputs": [],
   "source": [
    "def train(model, device, optimizer, train_loader, epoch, log_interval):\n",
    "    model.to(device)\n",
    "    model.train()\n",
    "    "
   ]
  }
 ],
 "metadata": {
  "kernelspec": {
   "display_name": "ml_env",
   "language": "python",
   "name": "python3"
  },
  "language_info": {
   "codemirror_mode": {
    "name": "ipython",
    "version": 3
   },
   "file_extension": ".py",
   "mimetype": "text/x-python",
   "name": "python",
   "nbconvert_exporter": "python",
   "pygments_lexer": "ipython3",
   "version": "3.11.4"
  }
 },
 "nbformat": 4,
 "nbformat_minor": 2
}
