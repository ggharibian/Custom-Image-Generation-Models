{
 "cells": [
  {
   "cell_type": "code",
   "execution_count": 18,
   "metadata": {},
   "outputs": [],
   "source": [
    "from variational_autoencoder import VAE\n",
    "import torch.nn.functional as F\n",
    "import torch\n",
    "from tqdm import tqdm\n",
    "import os"
   ]
  },
  {
   "cell_type": "code",
   "execution_count": null,
   "metadata": {},
   "outputs": [],
   "source": [
    "def get_data(path):\n",
    "    "
   ]
  },
  {
   "cell_type": "code",
   "execution_count": 13,
   "metadata": {},
   "outputs": [],
   "source": [
    "def reconstruction_loss(x, x_hat):\n",
    "    return F.mse_loss(x_hat, x, reduction='sum')\n",
    "\n",
    "def kl_divergence_loss(mu, stddev, beta=0.5):\n",
    "    return beta * torch.sum(torch.exp(stddev) + mu**2 - 1.0 - stddev)\n",
    "\n",
    "def loss_function(x, x_hat, mu, stddev, beta=0.5):\n",
    "    return reconstruction_loss(x, x_hat) + kl_divergence_loss(mu, stddev, beta)"
   ]
  },
  {
   "cell_type": "code",
   "execution_count": 14,
   "metadata": {},
   "outputs": [],
   "source": [
    "def train(model, device, optimizer, train_dataloader, epochs, loss_output_interval):\n",
    "    model.to(device)\n",
    "    model.train()\n",
    "    \n",
    "    for step in tqdm(range(epochs), desc=\"Epoch\"):\n",
    "        running_loss = 0\n",
    "        total_running_loss = 0\n",
    "        \n",
    "        for i, (X, y) in enumerate(tqdm(train_dataloader, desc=\"Batch\", leave=False)):\n",
    "            X = X.to(device)\n",
    "            y = y.to(device)\n",
    "            X_hat, mu, stddev = model(X)\n",
    "            loss = loss_function(X, X_hat, mu, stddev)\n",
    "            \n",
    "            optimizer.zero_grad()\n",
    "            loss.backward()\n",
    "            optimizer.step()\n",
    "            \n",
    "            running_loss += loss.item()\n",
    "            total_running_loss += loss.item()\n",
    "        \n",
    "        if (step+1) % loss_output_interval == 0:\n",
    "            print(f' Epoch {step+1} Average Batch Loss: {total_running_loss/len(train_dataloader)}')\n",
    "            \n",
    "    model.eval()"
   ]
  },
  {
   "cell_type": "code",
   "execution_count": 37,
   "metadata": {},
   "outputs": [
    {
     "data": {
      "text/plain": [
       "['../data/simpsons_dataset/kent_brockman',\n",
       " '../data/simpsons_dataset/principal_skinner',\n",
       " '../data/simpsons_dataset/agnes_skinner',\n",
       " '../data/simpsons_dataset/lenny_leonard',\n",
       " '../data/simpsons_dataset/krusty_the_clown',\n",
       " '../data/simpsons_dataset/sideshow_mel',\n",
       " '../data/simpsons_dataset/patty_bouvier',\n",
       " '../data/simpsons_dataset/nelson_muntz',\n",
       " '../data/simpsons_dataset/abraham_grampa_simpson',\n",
       " '../data/simpsons_dataset/miss_hoover',\n",
       " '../data/simpsons_dataset/gil',\n",
       " '../data/simpsons_dataset/bart_simpson',\n",
       " '../data/simpsons_dataset/professor_john_frink',\n",
       " '../data/simpsons_dataset/carl_carlson',\n",
       " '../data/simpsons_dataset/moe_szyslak',\n",
       " '../data/simpsons_dataset/ned_flanders',\n",
       " '../data/simpsons_dataset/sideshow_bob',\n",
       " '../data/simpsons_dataset/groundskeeper_willie',\n",
       " '../data/simpsons_dataset/apu_nahasapeemapetilon',\n",
       " '../data/simpsons_dataset/rainier_wolfcastle',\n",
       " '../data/simpsons_dataset/cletus_spuckler',\n",
       " '../data/simpsons_dataset/lisa_simpson',\n",
       " '../data/simpsons_dataset/milhouse_van_houten',\n",
       " '../data/simpsons_dataset/maggie_simpson',\n",
       " '../data/simpsons_dataset/waylon_smithers',\n",
       " '../data/simpsons_dataset/simpsons_dataset',\n",
       " '../data/simpsons_dataset/simpsons_dataset/kent_brockman',\n",
       " '../data/simpsons_dataset/simpsons_dataset/principal_skinner',\n",
       " '../data/simpsons_dataset/simpsons_dataset/agnes_skinner',\n",
       " '../data/simpsons_dataset/simpsons_dataset/lenny_leonard',\n",
       " '../data/simpsons_dataset/simpsons_dataset/krusty_the_clown',\n",
       " '../data/simpsons_dataset/simpsons_dataset/sideshow_mel',\n",
       " '../data/simpsons_dataset/simpsons_dataset/patty_bouvier',\n",
       " '../data/simpsons_dataset/simpsons_dataset/nelson_muntz',\n",
       " '../data/simpsons_dataset/simpsons_dataset/abraham_grampa_simpson',\n",
       " '../data/simpsons_dataset/simpsons_dataset/miss_hoover',\n",
       " '../data/simpsons_dataset/simpsons_dataset/gil',\n",
       " '../data/simpsons_dataset/simpsons_dataset/bart_simpson',\n",
       " '../data/simpsons_dataset/simpsons_dataset/professor_john_frink',\n",
       " '../data/simpsons_dataset/simpsons_dataset/carl_carlson',\n",
       " '../data/simpsons_dataset/simpsons_dataset/moe_szyslak',\n",
       " '../data/simpsons_dataset/simpsons_dataset/ned_flanders',\n",
       " '../data/simpsons_dataset/simpsons_dataset/sideshow_bob',\n",
       " '../data/simpsons_dataset/simpsons_dataset/groundskeeper_willie',\n",
       " '../data/simpsons_dataset/simpsons_dataset/apu_nahasapeemapetilon',\n",
       " '../data/simpsons_dataset/simpsons_dataset/rainier_wolfcastle',\n",
       " '../data/simpsons_dataset/simpsons_dataset/cletus_spuckler',\n",
       " '../data/simpsons_dataset/simpsons_dataset/lisa_simpson',\n",
       " '../data/simpsons_dataset/simpsons_dataset/milhouse_van_houten',\n",
       " '../data/simpsons_dataset/simpsons_dataset/maggie_simpson',\n",
       " '../data/simpsons_dataset/simpsons_dataset/waylon_smithers',\n",
       " '../data/simpsons_dataset/simpsons_dataset/marge_simpson',\n",
       " '../data/simpsons_dataset/simpsons_dataset/comic_book_guy',\n",
       " '../data/simpsons_dataset/simpsons_dataset/edna_krabappel',\n",
       " '../data/simpsons_dataset/simpsons_dataset/chief_wiggum',\n",
       " '../data/simpsons_dataset/simpsons_dataset/ralph_wiggum',\n",
       " '../data/simpsons_dataset/simpsons_dataset/homer_simpson',\n",
       " '../data/simpsons_dataset/simpsons_dataset/fat_tony',\n",
       " '../data/simpsons_dataset/simpsons_dataset/selma_bouvier',\n",
       " '../data/simpsons_dataset/simpsons_dataset/barney_gumble',\n",
       " '../data/simpsons_dataset/simpsons_dataset/charles_montgomery_burns',\n",
       " '../data/simpsons_dataset/simpsons_dataset/disco_stu',\n",
       " '../data/simpsons_dataset/simpsons_dataset/martin_prince',\n",
       " '../data/simpsons_dataset/simpsons_dataset/lionel_hutz',\n",
       " '../data/simpsons_dataset/simpsons_dataset/snake_jailbird',\n",
       " '../data/simpsons_dataset/simpsons_dataset/otto_mann',\n",
       " '../data/simpsons_dataset/simpsons_dataset/mayor_quimby',\n",
       " '../data/simpsons_dataset/simpsons_dataset/troy_mcclure',\n",
       " '../data/simpsons_dataset/marge_simpson',\n",
       " '../data/simpsons_dataset/comic_book_guy',\n",
       " '../data/simpsons_dataset/edna_krabappel',\n",
       " '../data/simpsons_dataset/chief_wiggum',\n",
       " '../data/simpsons_dataset/ralph_wiggum',\n",
       " '../data/simpsons_dataset/homer_simpson',\n",
       " '../data/simpsons_dataset/fat_tony',\n",
       " '../data/simpsons_dataset/selma_bouvier',\n",
       " '../data/simpsons_dataset/barney_gumble',\n",
       " '../data/simpsons_dataset/charles_montgomery_burns',\n",
       " '../data/simpsons_dataset/disco_stu',\n",
       " '../data/simpsons_dataset/martin_prince',\n",
       " '../data/simpsons_dataset/lionel_hutz',\n",
       " '../data/simpsons_dataset/snake_jailbird',\n",
       " '../data/simpsons_dataset/otto_mann',\n",
       " '../data/simpsons_dataset/mayor_quimby',\n",
       " '../data/simpsons_dataset/troy_mcclure']"
      ]
     },
     "execution_count": 37,
     "metadata": {},
     "output_type": "execute_result"
    }
   ],
   "source": [
    "list(x[0] for x in os.walk('../data/'))[4:]"
   ]
  },
  {
   "cell_type": "code",
   "execution_count": 16,
   "metadata": {},
   "outputs": [
    {
     "data": {
      "text/plain": [
       "(tensor([[-0.0723,  0.0869, -0.3901, -0.1682, -0.0650, -0.2496, -0.1893,  0.1371,\n",
       "          -0.1893,  0.0838, -0.1771, -0.1335, -0.3467, -0.2172, -0.2079,  0.0240]],\n",
       "        grad_fn=<AddmmBackward0>),\n",
       " tensor([[-0.2126, -0.3072,  0.1850, -0.3313]], grad_fn=<AddmmBackward0>),\n",
       " tensor([[-0.2632, -0.1324, -0.1859, -0.1747]], grad_fn=<AddmmBackward0>))"
      ]
     },
     "execution_count": 16,
     "metadata": {},
     "output_type": "execute_result"
    }
   ],
   "source": []
  }
 ],
 "metadata": {
  "kernelspec": {
   "display_name": "ml_env",
   "language": "python",
   "name": "python3"
  },
  "language_info": {
   "codemirror_mode": {
    "name": "ipython",
    "version": 3
   },
   "file_extension": ".py",
   "mimetype": "text/x-python",
   "name": "python",
   "nbconvert_exporter": "python",
   "pygments_lexer": "ipython3",
   "version": "3.11.4"
  }
 },
 "nbformat": 4,
 "nbformat_minor": 2
}
